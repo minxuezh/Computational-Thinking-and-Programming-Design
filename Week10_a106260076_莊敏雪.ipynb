{
  "nbformat": 4,
  "nbformat_minor": 0,
  "metadata": {
    "colab": {
      "name": "Week10-a106260076-莊敏雪.ipynb",
      "provenance": []
    },
    "kernelspec": {
      "name": "python3",
      "display_name": "Python 3"
    }
  },
  "cells": [
    {
      "cell_type": "code",
      "metadata": {
        "id": "aunFBR4x1Xus",
        "colab_type": "code",
        "outputId": "e1fd625b-5cc6-4465-e0f1-4273fb1a7bd1",
        "colab": {
          "base_uri": "https://localhost:8080/",
          "height": 70
        }
      },
      "source": [
        "import random\n",
        "my = int(input(\"請出拳[0]剪刀[1]石頭[2]布\"))\n",
        "print(\"我出拳為\",my)\n",
        "computer = random.randint(0, 2)\n",
        "print(\"電腦出拳為\",computer)"
      ],
      "execution_count": 0,
      "outputs": [
        {
          "output_type": "stream",
          "text": [
            "請出拳[0]剪刀[1]石頭[2]布1\n",
            "我出拳為 1\n",
            "電腦出拳為 0\n"
          ],
          "name": "stdout"
        }
      ]
    },
    {
      "cell_type": "code",
      "metadata": {
        "id": "6rR2YAbO6yz9",
        "colab_type": "code",
        "outputId": "c7f4a35f-82a5-4826-9673-fee03d4b1cc2",
        "colab": {
          "base_uri": "https://localhost:8080/",
          "height": 34
        }
      },
      "source": [
        "if my == 0:\n",
        "    if computer == 0:\n",
        "      print('平手')\n",
        "    elif computer == 1:\n",
        "      print('電腦獲勝')\n",
        "    else:\n",
        "      print('玩家獲勝')\n",
        "elif my == 1:\n",
        "    if computer == 0:\n",
        "      print('玩家獲勝')\n",
        "    elif computer == 1:\n",
        "      print('平手')\n",
        "    else:\n",
        "      print('電腦獲勝')\n",
        "else:\n",
        "    if computer == 1:\n",
        "      print('電腦獲勝')\n",
        "    elif computer == 2:\n",
        "      print('玩家獲勝')\n",
        "    else:\n",
        "      print('平手') "
      ],
      "execution_count": 0,
      "outputs": [
        {
          "output_type": "stream",
          "text": [
            "玩家獲勝\n"
          ],
          "name": "stdout"
        }
      ]
    },
    {
      "cell_type": "code",
      "metadata": {
        "id": "FGVycJm0U4ay",
        "colab_type": "code",
        "outputId": "cf2e0794-4e63-4ecf-91fb-86cf961e1a3a",
        "colab": {
          "base_uri": "https://localhost:8080/",
          "height": 70
        }
      },
      "source": [
        "import random\n",
        "my_choice = int(input(\"請出拳 [0] 剪刀 [1] 石頭 [2] 布\"))\n",
        "print(\"我出拳為\", my_choice)\n",
        "com_choice = random.randint(0, 2)\n",
        "print(\"電腦出拳為\", com_choice)"
      ],
      "execution_count": 0,
      "outputs": [
        {
          "output_type": "stream",
          "text": [
            "請出拳 [0] 剪刀 [1] 石頭 [2] 布1\n",
            "我出拳為 1\n",
            "電腦出拳為 2\n"
          ],
          "name": "stdout"
        }
      ]
    },
    {
      "cell_type": "code",
      "metadata": {
        "id": "pWfMbpCWYkJd",
        "colab_type": "code",
        "outputId": "296a5a40-64e8-4ec2-8576-5433033b2a66",
        "colab": {
          "base_uri": "https://localhost:8080/",
          "height": 34
        }
      },
      "source": [
        "if my_choice == (com_choice + 1) % 3:\n",
        "  print(\"我贏了\")\n",
        "elif my_choice == com_choice:\n",
        "  print(\"平手\")\n",
        "else:\n",
        "  print(\"我輸了\")"
      ],
      "execution_count": 0,
      "outputs": [
        {
          "output_type": "stream",
          "text": [
            "我輸了\n"
          ],
          "name": "stdout"
        }
      ]
    },
    {
      "cell_type": "code",
      "metadata": {
        "id": "a_avQZ3KtPUh",
        "colab_type": "code",
        "colab": {
          "base_uri": "https://localhost:8080/",
          "height": 70
        },
        "outputId": "70de05dd-6598-4c5a-ecff-b85680b91bf5"
      },
      "source": [
        "import random\n",
        "my_choice = int(input(\"請出拳 [0] 蟲 [1] 雞 [2] 老虎 [3] 棒子\"))\n",
        "print(\"你出的拳為\", my_choice)\n",
        "com_choice = random.randint(0, 3)\n",
        "print(\"電腦出拳為\", com_choice)"
      ],
      "execution_count": 7,
      "outputs": [
        {
          "output_type": "stream",
          "text": [
            "請出拳 [0] 蟲 [1] 雞 [2] 老虎 [3] 棒子1\n",
            "你出的拳為 1\n",
            "電腦出拳為 2\n"
          ],
          "name": "stdout"
        }
      ]
    },
    {
      "cell_type": "code",
      "metadata": {
        "id": "wSWiqZo8vaue",
        "colab_type": "code",
        "colab": {
          "base_uri": "https://localhost:8080/",
          "height": 34
        },
        "outputId": "432071ed-2cd9-4b61-b7d3-d752402d5335"
      },
      "source": [
        "if my_choice == (com_choice + 1) % 4:\n",
        "  print(\"我贏了\")\n",
        "elif com_choice == (my_choice + 1) % 4:\n",
        "  print(\"電腦贏了\")\n",
        "else:\n",
        "  print(\"平手\")"
      ],
      "execution_count": 8,
      "outputs": [
        {
          "output_type": "stream",
          "text": [
            "電腦贏了\n"
          ],
          "name": "stdout"
        }
      ]
    },
    {
      "cell_type": "code",
      "metadata": {
        "id": "Gylfw6ubafj7",
        "colab_type": "code",
        "outputId": "a7339477-9ebf-43db-ebd9-a24e2421cade",
        "colab": {
          "base_uri": "https://localhost:8080/",
          "height": 52
        }
      },
      "source": [
        "eye = float(input(\"請輸入視力測量值?\"))\n",
        "if eye < 0.9:\n",
        "  print(\"有近視\")\n",
        "else:\n",
        "  print(\"視力正常\")"
      ],
      "execution_count": 0,
      "outputs": [
        {
          "output_type": "stream",
          "text": [
            "請輸入視力測量值?0.8\n",
            "有近視\n"
          ],
          "name": "stdout"
        }
      ]
    },
    {
      "cell_type": "code",
      "metadata": {
        "id": "EJk7_ab7cvJw",
        "colab_type": "code",
        "outputId": "02294f2d-424f-43b9-e933-f9094d42e796",
        "colab": {
          "base_uri": "https://localhost:8080/",
          "height": 52
        }
      },
      "source": [
        "year = int(input(\"請輸入年份?\"))\n",
        "if ((year % 400) == 0):\n",
        "  print(year,\"是閨年\") \n",
        "elif ((year % 100) == 0):\n",
        "  print(year,\"不是閨年\")\n",
        "elif ((year % 4) == 0):\n",
        "  print(year,\"是閨年\")\n",
        "else:\n",
        "  print(year,\"不是閨年\")"
      ],
      "execution_count": 0,
      "outputs": [
        {
          "output_type": "stream",
          "text": [
            "請輸入年份?2012\n",
            "2012 是閨年\n"
          ],
          "name": "stdout"
        }
      ]
    }
  ]
}