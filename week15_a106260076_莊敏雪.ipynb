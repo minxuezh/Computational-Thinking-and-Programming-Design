{
  "nbformat": 4,
  "nbformat_minor": 0,
  "metadata": {
    "colab": {
      "name": "week15-a106260076-莊敏雪.ipynb",
      "provenance": [],
      "include_colab_link": true
    },
    "kernelspec": {
      "name": "python3",
      "display_name": "Python 3"
    }
  },
  "cells": [
    {
      "cell_type": "markdown",
      "metadata": {
        "id": "view-in-github",
        "colab_type": "text"
      },
      "source": [
        "<a href=\"https://colab.research.google.com/github/minxuezh/Computational-Thinking-and-Programming-Design/blob/master/week15_a106260076_%E8%8E%8A%E6%95%8F%E9%9B%AA.ipynb\" target=\"_parent\"><img src=\"https://colab.research.google.com/assets/colab-badge.svg\" alt=\"Open In Colab\"/></a>"
      ]
    },
    {
      "cell_type": "code",
      "metadata": {
        "id": "TeU9CTjSr0Kb",
        "colab_type": "code",
        "colab": {
          "base_uri": "https://localhost:8080/",
          "height": 102
        },
        "outputId": "6ac151f0-eb6d-47ac-9a2f-17897378dcac"
      },
      "source": [
        "#while 迴圈\n",
        "n = 1  # 初始條件\n",
        "\n",
        "while n < 5 : # 判斷條件 True\n",
        "  print(\"變數n是\", n)  \n",
        "  n = n + 1 # 更新條件\n",
        "\n",
        "print(\"Finished\") # False\n"
      ],
      "execution_count": 7,
      "outputs": [
        {
          "output_type": "stream",
          "text": [
            "變數n是 1\n",
            "變數n是 2\n",
            "變數n是 3\n",
            "變數n是 4\n",
            "Finished\n"
          ],
          "name": "stdout"
        }
      ]
    },
    {
      "cell_type": "code",
      "metadata": {
        "id": "Fz3Zdv04tRxi",
        "colab_type": "code",
        "colab": {
          "base_uri": "https://localhost:8080/",
          "height": 187
        },
        "outputId": "0ef3df54-54bd-40de-fa58-1686d341d130"
      },
      "source": [
        "# 印1000次hello\n",
        "\n",
        "x = 0\n",
        "while x < 10:\n",
        "  print(\"hello\")\n",
        "  x = x + 1"
      ],
      "execution_count": 2,
      "outputs": [
        {
          "output_type": "stream",
          "text": [
            "hello\n",
            "hello\n",
            "hello\n",
            "hello\n",
            "hello\n",
            "hello\n",
            "hello\n",
            "hello\n",
            "hello\n",
            "hello\n"
          ],
          "name": "stdout"
        }
      ]
    },
    {
      "cell_type": "code",
      "metadata": {
        "id": "Me869dCevQBQ",
        "colab_type": "code",
        "colab": {
          "base_uri": "https://localhost:8080/",
          "height": 187
        },
        "outputId": "cae24dac-d6af-4391-b93f-9d3c52e1b9a9"
      },
      "source": [
        "times = 0  # 初始條件\n",
        "while times < 10: # 判斷條件\n",
        "  times = times + 1 # 更新條件\n",
        "  print(\"這是第\", times, \"次的hello\")"
      ],
      "execution_count": 3,
      "outputs": [
        {
          "output_type": "stream",
          "text": [
            "這是第 1 次的hello\n",
            "這是第 2 次的hello\n",
            "這是第 3 次的hello\n",
            "這是第 4 次的hello\n",
            "這是第 5 次的hello\n",
            "這是第 6 次的hello\n",
            "這是第 7 次的hello\n",
            "這是第 8 次的hello\n",
            "這是第 9 次的hello\n",
            "這是第 10 次的hello\n"
          ],
          "name": "stdout"
        }
      ]
    },
    {
      "cell_type": "code",
      "metadata": {
        "id": "uDtZUAZWwGJ5",
        "colab_type": "code",
        "colab": {
          "base_uri": "https://localhost:8080/",
          "height": 34
        },
        "outputId": "498d2cfa-59ba-4118-a5cd-06c087929b62"
      },
      "source": [
        "# 1到10之和\n",
        "# 記憶型迴圈\n",
        "\n",
        "x = 0  # 初始條件\n",
        "result = 0\n",
        "\n",
        "while x < 10:  # 判斷條件\n",
        " x = x + 1     # 更新條件\n",
        " result = result + x\n",
        "\n",
        "print(\"答案是：\", result) # 最後結果"
      ],
      "execution_count": 4,
      "outputs": [
        {
          "output_type": "stream",
          "text": [
            "答案是： 55\n"
          ],
          "name": "stdout"
        }
      ]
    },
    {
      "cell_type": "code",
      "metadata": {
        "id": "LqPeEEwHxnp9",
        "colab_type": "code",
        "colab": {
          "base_uri": "https://localhost:8080/",
          "height": 34
        },
        "outputId": "342d9108-2fa3-403e-c14c-703cdc75e882"
      },
      "source": [
        "# 不固定次數迴圈, 1+2+3+....+x > 50,這個X是多少\n",
        "# 記憶型迴圈\n",
        "\n",
        "x = 0  # 初始條件\n",
        "result = 0\n",
        "end = 50\n",
        "while result <= end:   # 判斷條件\n",
        " x = x + 1    # 更新條件\n",
        " result = result + x\n",
        "print(\"最後加的X是\", x)  # 最後結果"
      ],
      "execution_count": 5,
      "outputs": [
        {
          "output_type": "stream",
          "text": [
            "最後加的X是 10\n"
          ],
          "name": "stdout"
        }
      ]
    },
    {
      "cell_type": "code",
      "metadata": {
        "id": "rPFwTJYHyiXj",
        "colab_type": "code",
        "colab": {
          "base_uri": "https://localhost:8080/",
          "height": 34
        },
        "outputId": "c6c32f33-4a7d-4919-8699-ababad7405dc"
      },
      "source": [
        "# 1到9奇數之和\n",
        "\n",
        "sum = 0 # 初始條件\n",
        "x = 1\n",
        "while x < 11: # 判斷條件\n",
        " sum = sum + x # 更新條件\n",
        " x = x + 2\n",
        "print(\"1 + 3 + 5 + 7 + 9 = \", sum) # 最後結果\n"
      ],
      "execution_count": 8,
      "outputs": [
        {
          "output_type": "stream",
          "text": [
            "1 + 3 + 5 + 7 + 9 =  25\n"
          ],
          "name": "stdout"
        }
      ]
    },
    {
      "cell_type": "code",
      "metadata": {
        "id": "QSA2K-6ky06K",
        "colab_type": "code",
        "colab": {
          "base_uri": "https://localhost:8080/",
          "height": 34
        },
        "outputId": "60417a4f-2276-4d31-f3e1-491a4bc18336"
      },
      "source": [
        "# 求⼤於1000最⼩平⽅和\n",
        "# 求最小n滿足「1^2 + 2^2 + 3^2 + ⋯ + n^2 > 1000」\n",
        "\n",
        "sum = 0\n",
        "i = 0\n",
        "\n",
        "while sum <= 1000:\n",
        "  i += 1\n",
        "  sum += i*i\n",
        "print(\"最小的n值為\", i)"
      ],
      "execution_count": 15,
      "outputs": [
        {
          "output_type": "stream",
          "text": [
            "最小的n值為 14\n"
          ],
          "name": "stdout"
        }
      ]
    },
    {
      "cell_type": "code",
      "metadata": {
        "id": "bGWByHza2gZh",
        "colab_type": "code",
        "colab": {
          "base_uri": "https://localhost:8080/",
          "height": 68
        },
        "outputId": "ba42c198-f1eb-4118-a61e-14a91a5f9e38"
      },
      "source": [
        "# 針對對while迴圈執⾏break\n",
        "## break:讓迴圈從此終⽌的指令\n",
        "\n",
        "i = 1\n",
        "while (i < 6):\n",
        "  print(i)\n",
        "  if i == 3:\n",
        "    break\n",
        "  i += 1"
      ],
      "execution_count": 20,
      "outputs": [
        {
          "output_type": "stream",
          "text": [
            "1\n",
            "2\n",
            "3\n"
          ],
          "name": "stdout"
        }
      ]
    },
    {
      "cell_type": "code",
      "metadata": {
        "id": "45seWp_j5U3Q",
        "colab_type": "code",
        "colab": {
          "base_uri": "https://localhost:8080/",
          "height": 85
        },
        "outputId": "b32fc2c0-a5f4-4ffb-8502-13fb3feeba90"
      },
      "source": [
        "# 針對對while迴圈執⾏continue\n",
        "\n",
        "i = 0\n",
        "while (i < 5):\n",
        " i += 1\n",
        " if i == 3:\n",
        "   continue\n",
        " print(i)"
      ],
      "execution_count": 21,
      "outputs": [
        {
          "output_type": "stream",
          "text": [
            "1\n",
            "2\n",
            "4\n",
            "5\n"
          ],
          "name": "stdout"
        }
      ]
    }
  ]
}