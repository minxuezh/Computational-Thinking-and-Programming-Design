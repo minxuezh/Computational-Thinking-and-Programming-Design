{
  "nbformat": 4,
  "nbformat_minor": 0,
  "metadata": {
    "colab": {
      "name": "week16-a106260076-莊敏雪.ipynb",
      "provenance": [],
      "collapsed_sections": [],
      "include_colab_link": true
    },
    "kernelspec": {
      "name": "python3",
      "display_name": "Python 3"
    }
  },
  "cells": [
    {
      "cell_type": "markdown",
      "metadata": {
        "id": "view-in-github",
        "colab_type": "text"
      },
      "source": [
        "<a href=\"https://colab.research.google.com/github/minxuezh/Computational-Thinking-and-Programming-Design/blob/master/week16_a106260076_%E8%8E%8A%E6%95%8F%E9%9B%AA.ipynb\" target=\"_parent\"><img src=\"https://colab.research.google.com/assets/colab-badge.svg\" alt=\"Open In Colab\"/></a>"
      ]
    },
    {
      "cell_type": "code",
      "metadata": {
        "id": "zsSp6c35pYl5",
        "colab_type": "code",
        "colab": {
          "base_uri": "https://localhost:8080/",
          "height": 85
        },
        "outputId": "20b87c5b-82e7-4e1a-d146-d7919c8a43bc"
      },
      "source": [
        "i = 1\n",
        "while (i < 7):\n",
        "  print(i)\n",
        "  if i == 4:\n",
        "    break\n",
        "  i = i + 1"
      ],
      "execution_count": 3,
      "outputs": [
        {
          "output_type": "stream",
          "text": [
            "1\n",
            "2\n",
            "3\n",
            "4\n"
          ],
          "name": "stdout"
        }
      ]
    },
    {
      "cell_type": "code",
      "metadata": {
        "id": "DjkW3TbLscOT",
        "colab_type": "code",
        "colab": {
          "base_uri": "https://localhost:8080/",
          "height": 102
        },
        "outputId": "ca8fdf5d-8a0c-4b6e-8371-04ab5710b0f5"
      },
      "source": [
        "i = 1\n",
        "while (i < 7):\n",
        "  i = i + 1\n",
        "  if i == 4:\n",
        "    continue\n",
        "  print(i)"
      ],
      "execution_count": 4,
      "outputs": [
        {
          "output_type": "stream",
          "text": [
            "2\n",
            "3\n",
            "5\n",
            "6\n",
            "7\n"
          ],
          "name": "stdout"
        }
      ]
    },
    {
      "cell_type": "code",
      "metadata": {
        "id": "EkNeS3RytvYj",
        "colab_type": "code",
        "colab": {
          "base_uri": "https://localhost:8080/",
          "height": 85
        },
        "outputId": "ce9d0d9a-34d6-416f-b3d2-b17d66fe06fe"
      },
      "source": [
        "#無窮迴圈\n",
        "while True:\n",
        "  password = input(\"Enter your password?\")\n",
        "  if password == \"a123\":\n",
        "    print(\"ENTER THE SYSTEM\")\n",
        "    break\n",
        "  else:\n",
        "    print(\"Try Again\")"
      ],
      "execution_count": 7,
      "outputs": [
        {
          "output_type": "stream",
          "text": [
            "Enter your password?a12\n",
            "Try Again\n",
            "Enter your password?a123\n",
            "ENTER THE SYSTEM\n"
          ],
          "name": "stdout"
        }
      ]
    },
    {
      "cell_type": "code",
      "metadata": {
        "id": "zJTeeSfHvgaE",
        "colab_type": "code",
        "colab": {
          "base_uri": "https://localhost:8080/",
          "height": 51
        },
        "outputId": "07febf03-1510-4cdf-b8ae-ccb45385559b"
      },
      "source": [
        "#無窮迴圈\n",
        "answer = \"b246\"\n",
        "\n",
        "while True:\n",
        "  password = input(\"Enter your password?\")\n",
        "  if password == answer:\n",
        "    print(\"ENTER THE SYSTEM\")\n",
        "    break\n",
        "  else:\n",
        "    print(\"Try Again\")"
      ],
      "execution_count": 6,
      "outputs": [
        {
          "output_type": "stream",
          "text": [
            "Enter your password?b246\n",
            "ENTER THE SYSTEM\n"
          ],
          "name": "stdout"
        }
      ]
    },
    {
      "cell_type": "code",
      "metadata": {
        "id": "Qx7NmSdDwx2i",
        "colab_type": "code",
        "colab": {
          "base_uri": "https://localhost:8080/",
          "height": 68
        },
        "outputId": "3d7c0adb-256c-48f2-803a-6b354189918e"
      },
      "source": [
        "#無窮迴圈\n",
        "answerA = \"abc2\"\n",
        "answerP = \"b246\"\n",
        "\n",
        "while True:\n",
        "  account = input(\"Enter your account?\")\n",
        "  password = input(\"Enter your password?\")\n",
        "  if (account == answerA and password == answerP):\n",
        "    print(\"ENTER THE SYSTEM\")\n",
        "    break\n",
        "  else:\n",
        "    print(\"Try Again\")"
      ],
      "execution_count": 16,
      "outputs": [
        {
          "output_type": "stream",
          "text": [
            "Enter your account?abc2\n",
            "Enter your password?b246\n",
            "ENTER THE SYSTEM\n"
          ],
          "name": "stdout"
        }
      ]
    },
    {
      "cell_type": "code",
      "metadata": {
        "id": "61_4lHLh1PQq",
        "colab_type": "code",
        "colab": {}
      },
      "source": [
        "#range 為 python 的內建函數，表示清單(串列)產生器\n",
        "\n",
        "range(5) #[0,1,2,3,4]\n",
        "range(3) #[0,1,2]\n",
        "\n",
        "range(2,5) #[2,3,4]\n",
        "range(8,10) #[8,9]\n",
        "\n",
        "range(2,10,3) #[2,5,8]\n",
        "range(3,8,2) #[3,5,7]\n",
        "range(10,3,-2) #[10,8,6,4]\n"
      ],
      "execution_count": 0,
      "outputs": []
    },
    {
      "cell_type": "code",
      "metadata": {
        "id": "wTa8R7pA2te9",
        "colab_type": "code",
        "colab": {
          "base_uri": "https://localhost:8080/",
          "height": 204
        },
        "outputId": "85374e96-33d7-4254-cb1a-ad5a24695b06"
      },
      "source": [
        "# for 迴圈\n",
        "\n",
        "for i in range(5): #range和for計數迴圈搭配\n",
        "  print(i)\n",
        "\n",
        "for i in range(2,5):\n",
        "  print(i)\n",
        "\n",
        "for i in range(2,10,3): \n",
        "  print(i)\n"
      ],
      "execution_count": 18,
      "outputs": [
        {
          "output_type": "stream",
          "text": [
            "0\n",
            "1\n",
            "2\n",
            "3\n",
            "4\n",
            "2\n",
            "3\n",
            "4\n",
            "2\n",
            "5\n",
            "8\n"
          ],
          "name": "stdout"
        }
      ]
    },
    {
      "cell_type": "code",
      "metadata": {
        "id": "2oACIIgb6DdZ",
        "colab_type": "code",
        "colab": {
          "base_uri": "https://localhost:8080/",
          "height": 136
        },
        "outputId": "4bfef419-e341-40a0-85aa-10cc032e0be8"
      },
      "source": [
        "# 3+6+9+12=?\n",
        "# for loop\n",
        "start = int(input(\"Enter a number?\"))\n",
        "end = int(input(\"Enter a number?\"))\n",
        "step = int(input(\"Enter a number?\"))\n",
        "\n",
        "sum = 0 #初始值\n",
        "\n",
        "for i in range(start,end,step): #ramge(3,13,3) => [3,6,9,12]\n",
        "  sum = sum + i #加總\n",
        "  print(\"i is\", i, \"sum equals\", sum)"
      ],
      "execution_count": 20,
      "outputs": [
        {
          "output_type": "stream",
          "text": [
            "Enter a number?3\n",
            "Enter a number?13\n",
            "Enter a number?3\n",
            "i is 3 sum equals 3\n",
            "i is 6 sum equals 9\n",
            "i is 9 sum equals 18\n",
            "i is 12 sum equals 30\n"
          ],
          "name": "stdout"
        }
      ]
    }
  ]
}