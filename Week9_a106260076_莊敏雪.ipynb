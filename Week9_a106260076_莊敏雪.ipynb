{
  "nbformat": 4,
  "nbformat_minor": 0,
  "metadata": {
    "colab": {
      "name": "Week9-a106260076-莊敏雪.ipynb",
      "provenance": [],
      "include_colab_link": true
    },
    "kernelspec": {
      "name": "python3",
      "display_name": "Python 3"
    }
  },
  "cells": [
    {
      "cell_type": "markdown",
      "metadata": {
        "id": "view-in-github",
        "colab_type": "text"
      },
      "source": [
        "<a href=\"https://colab.research.google.com/github/minxuezh/Computational-Thinking-and-Programming-Design/blob/master/Week9_a106260076_%E8%8E%8A%E6%95%8F%E9%9B%AA.ipynb\" target=\"_parent\"><img src=\"https://colab.research.google.com/assets/colab-badge.svg\" alt=\"Open In Colab\"/></a>"
      ]
    },
    {
      "cell_type": "code",
      "metadata": {
        "id": "msXx87PkQpTe",
        "colab_type": "code",
        "colab": {
          "base_uri": "https://localhost:8080/",
          "height": 34
        },
        "outputId": "022392f3-bc5e-4e13-c9c0-7a80aba0c800"
      },
      "source": [
        "score = 80\n",
        "if score >= 60:\n",
        "  print('Well done!')"
      ],
      "execution_count": 1,
      "outputs": [
        {
          "output_type": "stream",
          "text": [
            "Well done!\n"
          ],
          "name": "stdout"
        }
      ]
    },
    {
      "cell_type": "code",
      "metadata": {
        "id": "K_Rb4rrAddkK",
        "colab_type": "code",
        "colab": {
          "base_uri": "https://localhost:8080/",
          "height": 34
        },
        "outputId": "20e91fa8-4d3d-42d1-cd2d-485600e1a473"
      },
      "source": [
        "score = 50\n",
        "if score >= 60:\n",
        "  print('Pass')\n",
        "else:\n",
        "  print('Fail')"
      ],
      "execution_count": 5,
      "outputs": [
        {
          "output_type": "stream",
          "text": [
            "Fail\n"
          ],
          "name": "stdout"
        }
      ]
    },
    {
      "cell_type": "code",
      "metadata": {
        "id": "K_IZy4SQefB5",
        "colab_type": "code",
        "colab": {
          "base_uri": "https://localhost:8080/",
          "height": 34
        },
        "outputId": "d1abae84-f797-4093-9b94-4d2e1823cb82"
      },
      "source": [
        "score = 88\n",
        "if score >= 80:\n",
        "  print('非常好')\n",
        "elif score >= 60:\n",
        "  print('不錯')\n",
        "else:\n",
        "  print('要加油')"
      ],
      "execution_count": 4,
      "outputs": [
        {
          "output_type": "stream",
          "text": [
            "非常好\n"
          ],
          "name": "stdout"
        }
      ]
    },
    {
      "cell_type": "code",
      "metadata": {
        "id": "N4K-sSGhf5j-",
        "colab_type": "code",
        "colab": {
          "base_uri": "https://localhost:8080/",
          "height": 51
        },
        "outputId": "108496e8-5462-4eb8-bf38-9a78fd1b5237"
      },
      "source": [
        "x=1\n",
        "y=-2\n",
        "if x > 0:\n",
        "  print('I+IV')\n",
        "  if y > 0:\n",
        "    print('I')\n",
        "  else:\n",
        "    print('IV')\n",
        "else:\n",
        "    print('II+III')\n",
        "    if y > 0:\n",
        "      print('II')\n",
        "    else:\n",
        "      print('III')"
      ],
      "execution_count": 8,
      "outputs": [
        {
          "output_type": "stream",
          "text": [
            "I+IV\n",
            "IV\n"
          ],
          "name": "stdout"
        }
      ]
    },
    {
      "cell_type": "code",
      "metadata": {
        "id": "AjKDhbSml4Bq",
        "colab_type": "code",
        "colab": {
          "base_uri": "https://localhost:8080/",
          "height": 34
        },
        "outputId": "37140aba-2674-4bdb-9234-22e329e99cdf"
      },
      "source": [
        "money = 2000\n",
        "if money >= 2000:\n",
        "  print(money*0.9)\n",
        "else:\n",
        "  print(money)"
      ],
      "execution_count": 15,
      "outputs": [
        {
          "output_type": "stream",
          "text": [
            "1800.0\n"
          ],
          "name": "stdout"
        }
      ]
    },
    {
      "cell_type": "code",
      "metadata": {
        "id": "eCdh19-wmV8D",
        "colab_type": "code",
        "colab": {
          "base_uri": "https://localhost:8080/",
          "height": 34
        },
        "outputId": "4a534332-3a9a-496f-8506-8a8c81eef616"
      },
      "source": [
        "n=5\n",
        "if n%2 == 0: \n",
        "  print('even')\n",
        "else:\n",
        "  print('odd')"
      ],
      "execution_count": 11,
      "outputs": [
        {
          "output_type": "stream",
          "text": [
            "odd\n"
          ],
          "name": "stdout"
        }
      ]
    }
  ]
}