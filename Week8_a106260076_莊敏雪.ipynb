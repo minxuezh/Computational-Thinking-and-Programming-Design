{
  "nbformat": 4,
  "nbformat_minor": 0,
  "metadata": {
    "colab": {
      "name": "Week8-a106260076-莊敏雪.ipynb",
      "provenance": [],
      "collapsed_sections": []
    },
    "kernelspec": {
      "name": "python3",
      "display_name": "Python 3"
    }
  },
  "cells": [
    {
      "cell_type": "code",
      "metadata": {
        "id": "I2ZINlb8QBoq",
        "colab_type": "code",
        "outputId": "6fa8d02f-b813-4cb9-c806-3d1237280292",
        "colab": {
          "base_uri": "https://localhost:8080/",
          "height": 70
        }
      },
      "source": [
        "print(\"Welcome to the Mashup Game!\")\n",
        "name1=input(\"Enter one full name (FIRST LAST): \")\n",
        "name2=input(\"Enter another full name (FIRST LAST): \")"
      ],
      "execution_count": 11,
      "outputs": [
        {
          "output_type": "stream",
          "text": [
            "Welcome to the Mashup Game!\n",
            "Enter one full name (FIRST LAST): Aqua Man\n",
            "Enter another full name (FIRST LAST): Cat Woman\n"
          ],
          "name": "stdout"
        }
      ]
    },
    {
      "cell_type": "code",
      "metadata": {
        "id": "Ns3C4Cw-VebM",
        "colab_type": "code",
        "outputId": "7be67394-a875-4f44-a3a0-06e23da7fab6",
        "colab": {
          "base_uri": "https://localhost:8080/",
          "height": 87
        }
      },
      "source": [
        "space=name1.find(\" \")  #找出空格 \n",
        "name1_first=name1[0:space]\n",
        "name1_last=name1[space+1:len(name1)]\n",
        "space=name2.find(\" \")\n",
        "name2_first=name2[0:space]\n",
        "name2_last=name2[space+1:len(name2)]\n",
        "print(name1_first)\n",
        "print(name1_last)\n",
        "print(name2_first)\n",
        "print(name2_last)"
      ],
      "execution_count": 12,
      "outputs": [
        {
          "output_type": "stream",
          "text": [
            "Aqua\n",
            "Man\n",
            "Cat\n",
            "Woman\n"
          ],
          "name": "stdout"
        }
      ]
    },
    {
      "cell_type": "code",
      "metadata": {
        "id": "iQMdvqq-XEIx",
        "colab_type": "code",
        "colab": {}
      },
      "source": [
        "#找到中間字元，切分姓氏和名字為前半部與後半部\n",
        "#長度為奇數（偶數）時，將字串長度除以2後，用int()取整數為索引值\n",
        "len_name1_first = len(name1_first)\n",
        "len_name2_first = len(name2_first)\n",
        "len_name1_last = len(name1_last)\n",
        "len_name2_last = len(name2_last)\n",
        "index_name1_first = int(len_name1_first/2)\n",
        "index_name2_first = int(len_name2_first/2)\n",
        "index_name1_last = int(len_name1_last/2)\n",
        "index_name2_last = int(len_name2_last/2) \n",
        "\n",
        "#依照索引值找出對應前後半部字元，存入新變數\n",
        "lefthalf_name1_first = name1_first[0:index_name1_first] #名字前半部\n",
        "righthalf_name1_first = name1_first[index_name1_first:len_name1_first] #名字後半部\n",
        "lefthalf_name2_first = name2_first[0:index_name2_first]\n",
        "righthalf_name2_first = name2_first[index_name2_first:len_name2_first]\n",
        "lefthalf_name1_last = name1_last[0:index_name1_last] #姓氏前半部\n",
        "righthalf_name1_last = name1_last[index_name1_last:len_name1_last] # 姓氏後半部\n",
        "lefthalf_name2_last = name2_last[0:index_name2_last]\n",
        "righthalf_name2_last = name2_last[index_name2_last:len_name2_last]\n"
      ],
      "execution_count": 0,
      "outputs": []
    },
    {
      "cell_type": "code",
      "metadata": {
        "id": "1jgQBleDiY4Q",
        "colab_type": "code",
        "colab": {}
      },
      "source": [
        "# 混合重組成新的英文名字\n",
        "# 混合名字和姓氏的前半部與後半部\n",
        "newname1_first = lefthalf_name1_first.capitalize() + righthalf_name1_first.lower()\n",
        "newname1_last = lefthalf_name1_last.capitalize() + righthalf_name2_last.lower()\n",
        "newname2_first = lefthalf_name2_first.capitalize() + righthalf_name1_first.lower()\n",
        "newname2_last = lefthalf_name2_last.capitalize() + righthalf_name1_last.lower()"
      ],
      "execution_count": 0,
      "outputs": []
    },
    {
      "cell_type": "code",
      "metadata": {
        "id": "lh1jCU9rjFT9",
        "colab_type": "code",
        "colab": {
          "base_uri": "https://localhost:8080/",
          "height": 70
        },
        "outputId": "6574465c-7d04-4973-e333-eb1090037381"
      },
      "source": [
        "print(\"All done! Here are two possibilities, pick the one you like best!\")\n",
        "print(newname1_first, newname1_last) \n",
        "print(newname2_first, newname2_last)"
      ],
      "execution_count": 20,
      "outputs": [
        {
          "output_type": "stream",
          "text": [
            "All done! Here are two possibilities, pick the one you like best!\n",
            "Aqua Mman\n",
            "Cua Woan\n"
          ],
          "name": "stdout"
        }
      ]
    },
    {
      "cell_type": "code",
      "metadata": {
        "id": "ZuCfPsDOeLBx",
        "colab_type": "code",
        "outputId": "7c7bfa4b-e569-47b6-b04b-2e738957a984",
        "colab": {
          "base_uri": "https://localhost:8080/",
          "height": 51
        }
      },
      "source": [
        "s=input('請輸入一個字串?')\n",
        "print('迴文判斷結果為',s==s[::-1])"
      ],
      "execution_count": 0,
      "outputs": [
        {
          "output_type": "stream",
          "text": [
            "請輸入一個字串?abccba\n",
            "迴文判斷結果為 True\n"
          ],
          "name": "stdout"
        }
      ]
    },
    {
      "cell_type": "code",
      "metadata": {
        "id": "ejp-vuunLRco",
        "colab_type": "code",
        "colab": {
          "base_uri": "https://localhost:8080/",
          "height": 87
        },
        "outputId": "58ca8ec0-4814-414a-9499-7af7aebc5f71"
      },
      "source": [
        "s=input('請輸入一行英文句子?')\n",
        "words=s.split(' ')\n",
        "print('將英文句子以空白字元切割後，獲得單字為',words)\n",
        "s2=' '.join(words)\n",
        "print('以空白字元結合所有單字後，獲得句子為',s2)\n",
        "s3=s.title()\n",
        "print('將每個單字字首轉大寫後，獲得句子為',s3)"
      ],
      "execution_count": 21,
      "outputs": [
        {
          "output_type": "stream",
          "text": [
            "請輸入一行英文句子?an apple a day keeps the doctor away\n",
            "將英文句子以空白字元切割後，獲得單字為 ['an', 'apple', 'a', 'day', 'keeps', 'the', 'doctor', 'away']\n",
            "以空白字元結合所有單字後，獲得句子為 an apple a day keeps the doctor away\n",
            "將每個單字字首轉大寫後，獲得句子為 An Apple A Day Keeps The Doctor Away\n"
          ],
          "name": "stdout"
        }
      ]
    }
  ]
}