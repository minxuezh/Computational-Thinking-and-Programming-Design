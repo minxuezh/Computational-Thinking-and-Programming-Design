{
  "nbformat": 4,
  "nbformat_minor": 0,
  "metadata": {
    "colab": {
      "name": "Week11-a106260076-莊敏雪.ipynb",
      "provenance": [],
      "collapsed_sections": [],
      "include_colab_link": true
    },
    "kernelspec": {
      "name": "python3",
      "display_name": "Python 3"
    }
  },
  "cells": [
    {
      "cell_type": "markdown",
      "metadata": {
        "id": "view-in-github",
        "colab_type": "text"
      },
      "source": [
        "<a href=\"https://colab.research.google.com/github/minxuezh/Computational-Thinking-and-Programming-Design/blob/master/Week11_a106260076_%E8%8E%8A%E6%95%8F%E9%9B%AA.ipynb\" target=\"_parent\"><img src=\"https://colab.research.google.com/assets/colab-badge.svg\" alt=\"Open In Colab\"/></a>"
      ]
    },
    {
      "cell_type": "code",
      "metadata": {
        "id": "yKZt5fwzWJ_v",
        "colab_type": "code",
        "colab": {}
      },
      "source": [
        "#B 1. 下列何者代表 Python 的註解？ (A) //　(B) #　(C) /*　(D)@。\n",
        "#A 2. 在 Python 程式語⾔中，下列何者的變數名稱是正確的？ (A)_if　 (B) if　 (C) in　 (D) 2f。\n",
        "#A 1. 有 ⼀敘述a = 5/2 + 5//2 + 2 ** 3 + 5 % 2，試問 a 的值為何? (A) 13.5　(B) 14　(C) 14.5　(D) 15\n",
        "#B 1. 試問下列哪⼀個為偽? (A) a = a + 1和 a += 1具有⼀樣的功能 (B) a =+ 1 表⽰ a = a +1 (C) 若 a = 5，則 a//= 2，最後的a為2 (D) a, b = 100, 200，表⽰a為100，b為200，這表⽰可以指定多個變數\n",
        "#C 1. 試問下列敘述何者為偽? (A) 運算⼦是⼀符號，其具有特定的功能 (B) 運算⼦ =，表⽰指定的意思，和數學的相等是不⼀樣的 (C) 運算⼦ //，表⽰整數除法，亦即 9 // 2，其結果為4 (D) a = a + 1和 a++的結果是⼀樣的\n",
        "#D 1. 假設利⽤ num = input() 輸入10，再執⾏ a = num + 100，試問其a值為 (A) 110　(B) 120　(C) 130　(D) 產⽣錯誤訊息\n",
        "#B 1. 在 Python 程式語言中,利用 input 指令讀到的值,型態為?(A) 數值 (B) 字串 (C) 浮點數 (D) 以上皆否。\n",
        "#C 2. 在 Python程式語言中,若a = \"12\"、b=\"34\",則 print(a+b)結果為?(A) 46 (B) 56 (C) 1234 (D) 以上皆否。\n",
        "#  1. 在print敘述中哪一個為錯誤(A) 利用 \\ 可輸出 \\ (B) 利用 \\' 可輸出 ' (C) 要輸出的字串可利用雙引號或單引號括住(D) 每一次執行完print敘述後都不會跳行,所以也不必使用end來輔助\n"
      ],
      "execution_count": 0,
      "outputs": []
    },
    {
      "cell_type": "code",
      "metadata": {
        "id": "iRwh5xo3W5-j",
        "colab_type": "code",
        "colab": {}
      },
      "source": [
        ""
      ],
      "execution_count": 0,
      "outputs": []
    }
  ]
}