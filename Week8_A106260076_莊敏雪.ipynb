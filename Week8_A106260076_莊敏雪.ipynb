{
  "nbformat": 4,
  "nbformat_minor": 0,
  "metadata": {
    "colab": {
      "name": "Week8-A106260076-莊敏雪.ipynb",
      "provenance": []
    },
    "kernelspec": {
      "name": "python3",
      "display_name": "Python 3"
    }
  },
  "cells": [
    {
      "cell_type": "code",
      "metadata": {
        "id": "MisyXiPAg8fe",
        "colab_type": "code",
        "outputId": "5ab0f33a-32d7-41d2-86ae-0ebd33632a05",
        "colab": {
          "base_uri": "https://localhost:8080/",
          "height": 85
        }
      },
      "source": [
        "s=input('請輸入一行英文句子?')\n",
        "words=s.split(' ')\n",
        "print(words)\n",
        "s2=' '.join(words)\n",
        "print(s2)\n",
        "s3=s.title()\n",
        "print(s3)"
      ],
      "execution_count": 0,
      "outputs": [
        {
          "output_type": "stream",
          "text": [
            "請輸入一行英文句子?an apple a day keeps the doctor away\n",
            "['an', 'apple', 'a', 'day', 'keeps', 'the', 'doctor', 'away']\n",
            "an apple a day keeps the doctor away\n",
            "An Apple A Day Keeps The Doctor Away\n"
          ],
          "name": "stdout"
        }
      ]
    }
  ]
}